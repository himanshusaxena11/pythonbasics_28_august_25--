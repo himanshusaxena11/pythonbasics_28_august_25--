{
 "cells": [
  {
   "cell_type": "markdown",
   "id": "3abf66eb",
   "metadata": {},
   "source": [
    "# DATA COLLECTION"
   ]
  },
  {
   "cell_type": "markdown",
   "id": "95153ed5",
   "metadata": {},
   "source": [
    "# list tuple dict set"
   ]
  },
  {
   "cell_type": "code",
   "execution_count": 1,
   "id": "fc5069a9",
   "metadata": {},
   "outputs": [
    {
     "data": {
      "text/plain": [
       "int"
      ]
     },
     "execution_count": 1,
     "metadata": {},
     "output_type": "execute_result"
    }
   ],
   "source": [
    "a=90\n",
    "type(a)"
   ]
  },
  {
   "cell_type": "code",
   "execution_count": 2,
   "id": "5228250c",
   "metadata": {},
   "outputs": [
    {
     "name": "stdout",
     "output_type": "stream",
     "text": [
      "[45, 23, 9.87, True, -4, 'fizi', False]\n"
     ]
    }
   ],
   "source": [
    "x=[45,23,9.87,True,-4,'fizi',False]\n",
    "print(x)"
   ]
  },
  {
   "cell_type": "code",
   "execution_count": 3,
   "id": "ab7e7eee",
   "metadata": {},
   "outputs": [
    {
     "data": {
      "text/plain": [
       "list"
      ]
     },
     "execution_count": 3,
     "metadata": {},
     "output_type": "execute_result"
    }
   ],
   "source": [
    "type(x)"
   ]
  },
  {
   "cell_type": "code",
   "execution_count": 4,
   "id": "5bf3d3e6",
   "metadata": {},
   "outputs": [],
   "source": [
    "x=['thekhudehuh']"
   ]
  },
  {
   "cell_type": "code",
   "execution_count": 5,
   "id": "00dab9e0",
   "metadata": {},
   "outputs": [
    {
     "name": "stdout",
     "output_type": "stream",
     "text": [
      "['thekhudehuh']\n"
     ]
    }
   ],
   "source": [
    "print(x)"
   ]
  },
  {
   "cell_type": "code",
   "execution_count": 6,
   "id": "c2fbc9fa",
   "metadata": {},
   "outputs": [
    {
     "data": {
      "text/plain": [
       "list"
      ]
     },
     "execution_count": 6,
     "metadata": {},
     "output_type": "execute_result"
    }
   ],
   "source": [
    "type(x)"
   ]
  },
  {
   "cell_type": "code",
   "execution_count": 7,
   "id": "53f73292",
   "metadata": {},
   "outputs": [
    {
     "name": "stdout",
     "output_type": "stream",
     "text": [
      "18\n"
     ]
    }
   ],
   "source": [
    "#wap to add all nos in list\n",
    "a=[3,2,8,1,4]\n",
    "y=0\n",
    "for i in a:\n",
    "    y=y+i\n",
    "print(y)"
   ]
  },
  {
   "cell_type": "code",
   "execution_count": 8,
   "id": "ac3a9501",
   "metadata": {},
   "outputs": [
    {
     "name": "stdout",
     "output_type": "stream",
     "text": [
      "120\n"
     ]
    }
   ],
   "source": [
    "#wap to multiply all nos in list\n",
    "a=[2,5,1,3,4]\n",
    "b=1\n",
    "for i in a:\n",
    "    b=b*i\n",
    "print(b)\n",
    "    "
   ]
  },
  {
   "cell_type": "markdown",
   "id": "124f94d9",
   "metadata": {},
   "source": [
    "# Slicing with indexing"
   ]
  },
  {
   "cell_type": "code",
   "execution_count": 9,
   "id": "587daf4a",
   "metadata": {},
   "outputs": [],
   "source": [
    "x=[45,89,94.3,'true','boolean',False,'gygghhh']"
   ]
  },
  {
   "cell_type": "code",
   "execution_count": 10,
   "id": "456b9d87",
   "metadata": {},
   "outputs": [
    {
     "data": {
      "text/plain": [
       "'true'"
      ]
     },
     "execution_count": 10,
     "metadata": {},
     "output_type": "execute_result"
    }
   ],
   "source": [
    "x[3]"
   ]
  },
  {
   "cell_type": "code",
   "execution_count": 11,
   "id": "c59e88fe",
   "metadata": {},
   "outputs": [
    {
     "data": {
      "text/plain": [
       "89"
      ]
     },
     "execution_count": 11,
     "metadata": {},
     "output_type": "execute_result"
    }
   ],
   "source": [
    "x[-6]"
   ]
  },
  {
   "cell_type": "code",
   "execution_count": 12,
   "id": "53724bf9",
   "metadata": {},
   "outputs": [
    {
     "data": {
      "text/plain": [
       "7"
      ]
     },
     "execution_count": 12,
     "metadata": {},
     "output_type": "execute_result"
    }
   ],
   "source": [
    "len(x)"
   ]
  },
  {
   "cell_type": "code",
   "execution_count": 13,
   "id": "f6e8c2d5",
   "metadata": {},
   "outputs": [
    {
     "data": {
      "text/plain": [
       "['true', 'boolean', False]"
      ]
     },
     "execution_count": 13,
     "metadata": {},
     "output_type": "execute_result"
    }
   ],
   "source": [
    "x[3:6]"
   ]
  },
  {
   "cell_type": "code",
   "execution_count": 14,
   "id": "abfcc488",
   "metadata": {},
   "outputs": [
    {
     "data": {
      "text/plain": [
       "[94.3, False]"
      ]
     },
     "execution_count": 14,
     "metadata": {},
     "output_type": "execute_result"
    }
   ],
   "source": [
    "x[2:7:3]"
   ]
  },
  {
   "cell_type": "code",
   "execution_count": 15,
   "id": "6c997a24",
   "metadata": {},
   "outputs": [
    {
     "data": {
      "text/plain": [
       "[94.3, 'true', 'boolean', False]"
      ]
     },
     "execution_count": 15,
     "metadata": {},
     "output_type": "execute_result"
    }
   ],
   "source": [
    "#wap to print 94.3,'true','boolean',False with the help of -ve indexing\n",
    "x=[45,89,94.3,'true','boolean',False,'gygghhh']\n",
    "x[-5:-1]"
   ]
  },
  {
   "cell_type": "code",
   "execution_count": 16,
   "id": "a0188d21",
   "metadata": {},
   "outputs": [
    {
     "data": {
      "text/plain": [
       "[94.3, 'true', 'boolean']"
      ]
     },
     "execution_count": 16,
     "metadata": {},
     "output_type": "execute_result"
    }
   ],
   "source": [
    "x[2:-2]"
   ]
  },
  {
   "cell_type": "code",
   "execution_count": 17,
   "id": "5181342d",
   "metadata": {},
   "outputs": [
    {
     "data": {
      "text/plain": [
       "[45, 89, 94.3, 'true', 'boolean', False, 'gygghhh']"
      ]
     },
     "execution_count": 17,
     "metadata": {},
     "output_type": "execute_result"
    }
   ],
   "source": [
    "x"
   ]
  },
  {
   "cell_type": "code",
   "execution_count": 18,
   "id": "8449d634",
   "metadata": {},
   "outputs": [
    {
     "data": {
      "text/plain": [
       "[45, 89, 94.3, 'true', 'boolean', False, 'gygghhh']"
      ]
     },
     "execution_count": 18,
     "metadata": {},
     "output_type": "execute_result"
    }
   ],
   "source": [
    "x[0:7]"
   ]
  },
  {
   "cell_type": "code",
   "execution_count": 19,
   "id": "0b99d448",
   "metadata": {},
   "outputs": [
    {
     "data": {
      "text/plain": [
       "[45, 89, 94.3, 'true', 'boolean', False, 'gygghhh']"
      ]
     },
     "execution_count": 19,
     "metadata": {},
     "output_type": "execute_result"
    }
   ],
   "source": [
    "x[:7]"
   ]
  },
  {
   "cell_type": "code",
   "execution_count": 20,
   "id": "33c70811",
   "metadata": {},
   "outputs": [
    {
     "data": {
      "text/plain": [
       "[45, 89, 94.3, 'true', 'boolean', False, 'gygghhh']"
      ]
     },
     "execution_count": 20,
     "metadata": {},
     "output_type": "execute_result"
    }
   ],
   "source": [
    "x[::]"
   ]
  },
  {
   "cell_type": "code",
   "execution_count": 21,
   "id": "b9b7640f",
   "metadata": {},
   "outputs": [
    {
     "data": {
      "text/plain": [
       "[45, 89, 94.3, 'true', 'boolean', False, 'gygghhh']"
      ]
     },
     "execution_count": 21,
     "metadata": {},
     "output_type": "execute_result"
    }
   ],
   "source": [
    "x[0:]"
   ]
  },
  {
   "cell_type": "code",
   "execution_count": 22,
   "id": "82d56ec5",
   "metadata": {},
   "outputs": [
    {
     "data": {
      "text/plain": [
       "[45, 89, 94.3, 'true', 'boolean', False, 'gygghhh']"
      ]
     },
     "execution_count": 22,
     "metadata": {},
     "output_type": "execute_result"
    }
   ],
   "source": [
    "x[::1]"
   ]
  },
  {
   "cell_type": "code",
   "execution_count": 23,
   "id": "6b4a100c",
   "metadata": {},
   "outputs": [
    {
     "data": {
      "text/plain": [
       "[45, 'true', 'gygghhh']"
      ]
     },
     "execution_count": 23,
     "metadata": {},
     "output_type": "execute_result"
    }
   ],
   "source": [
    "x[::3]"
   ]
  },
  {
   "cell_type": "markdown",
   "id": "fe3d441f",
   "metadata": {},
   "source": [
    "# Mutable and immutable"
   ]
  },
  {
   "cell_type": "code",
   "execution_count": 24,
   "id": "8e9b44bc",
   "metadata": {},
   "outputs": [
    {
     "data": {
      "text/plain": [
       "[45, 89, 94.3, 'true', 'boolean', False, 'gygghhh']"
      ]
     },
     "execution_count": 24,
     "metadata": {},
     "output_type": "execute_result"
    }
   ],
   "source": [
    "x"
   ]
  },
  {
   "cell_type": "code",
   "execution_count": 25,
   "id": "236f195c",
   "metadata": {},
   "outputs": [],
   "source": [
    "x[3]='india'"
   ]
  },
  {
   "cell_type": "code",
   "execution_count": 26,
   "id": "f02755a1",
   "metadata": {},
   "outputs": [
    {
     "data": {
      "text/plain": [
       "[45, 89, 94.3, 'india', 'boolean', False, 'gygghhh']"
      ]
     },
     "execution_count": 26,
     "metadata": {},
     "output_type": "execute_result"
    }
   ],
   "source": [
    "x"
   ]
  },
  {
   "cell_type": "code",
   "execution_count": 27,
   "id": "59d0c243",
   "metadata": {},
   "outputs": [],
   "source": [
    "x[-6]=79"
   ]
  },
  {
   "cell_type": "code",
   "execution_count": 28,
   "id": "e9630b8d",
   "metadata": {},
   "outputs": [
    {
     "data": {
      "text/plain": [
       "[45, 79, 94.3, 'india', 'boolean', False, 'gygghhh']"
      ]
     },
     "execution_count": 28,
     "metadata": {},
     "output_type": "execute_result"
    }
   ],
   "source": [
    "x"
   ]
  },
  {
   "cell_type": "code",
   "execution_count": 34,
   "id": "f965a74a",
   "metadata": {},
   "outputs": [],
   "source": [
    "x[1:6]=[67]"
   ]
  },
  {
   "cell_type": "code",
   "execution_count": 36,
   "id": "d6b67203",
   "metadata": {},
   "outputs": [
    {
     "data": {
      "text/plain": [
       "[45, 67]"
      ]
     },
     "execution_count": 36,
     "metadata": {},
     "output_type": "execute_result"
    }
   ],
   "source": [
    "x"
   ]
  },
  {
   "cell_type": "code",
   "execution_count": null,
   "id": "593579f7",
   "metadata": {},
   "outputs": [],
   "source": []
  }
 ],
 "metadata": {
  "kernelspec": {
   "display_name": "Python 3 (ipykernel)",
   "language": "python",
   "name": "python3"
  },
  "language_info": {
   "codemirror_mode": {
    "name": "ipython",
    "version": 3
   },
   "file_extension": ".py",
   "mimetype": "text/x-python",
   "name": "python",
   "nbconvert_exporter": "python",
   "pygments_lexer": "ipython3",
   "version": "3.9.12"
  }
 },
 "nbformat": 4,
 "nbformat_minor": 5
}
